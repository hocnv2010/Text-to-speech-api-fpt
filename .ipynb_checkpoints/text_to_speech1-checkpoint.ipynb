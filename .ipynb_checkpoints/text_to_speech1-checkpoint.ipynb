{
 "cells": [
  {
   "cell_type": "markdown",
   "metadata": {},
   "source": [
    "## Text to speech use FPT  API\n",
    "#### Step 1: create file input.txt\n",
    "#### Step 2: run all lines"
   ]
  },
  {
   "cell_type": "code",
   "execution_count": 6,
   "metadata": {},
   "outputs": [],
   "source": [
    "#Text to speech use fpt api\n",
    "import requests\n",
    "\n",
    "api_key = \"7c1151e8d66146cc832ba10584a5333a\"\n",
    "voice = \"hatieumai\"\n",
    "speed=0"
   ]
  },
  {
   "cell_type": "code",
   "execution_count": 7,
   "metadata": {},
   "outputs": [
    {
     "name": "stdout",
     "output_type": "stream",
     "text": [
      "remove all file mp3\n"
     ]
    }
   ],
   "source": [
    "# Remove all file mp3\n",
    "import os\n",
    "for item in os.listdir():\n",
    "    if item.endswith(\".mp3\"):\n",
    "        os.remove(os.path.join('', item))\n",
    "print('remove all file mp3')"
   ]
  },
  {
   "cell_type": "code",
   "execution_count": 8,
   "metadata": {},
   "outputs": [
    {
     "name": "stdout",
     "output_type": "stream",
     "text": [
      "\n",
      " https://s3-ap-southeast-1.amazonaws.com/text2speech-v4/hatieumai.0.dc8e62f1307558902fcdf9cc23c07eef.mp3\n",
      "downloading file 1/6  000.mp3\n",
      "100% [............................................................................] 454016 / 454016\n",
      " https://s3-ap-southeast-1.amazonaws.com/text2speech-v4/hatieumai.0.2b0ac74bd64269499075700497070f21.mp3\n",
      "downloading file 2/6  001.mp3\n",
      "100% [............................................................................] 448256 / 448256\n",
      " https://s3-ap-southeast-1.amazonaws.com/text2speech-v4/hatieumai.0.2c72a70b5b02b718164d0737f4cb2a5a.mp3\n",
      "downloading file 3/6  002.mp3\n",
      "100% [............................................................................] 468608 / 468608\n",
      " https://s3-ap-southeast-1.amazonaws.com/text2speech-v4/hatieumai.0.5dae7a0706ecc6f3a045ee2880e03a75.mp3\n",
      "downloading file 4/6  003.mp3\n",
      "100% [............................................................................] 454016 / 454016\n",
      " https://s3-ap-southeast-1.amazonaws.com/text2speech-v4/hatieumai.0.a1dda191e7ba8ffa952249a04bbdaee2.mp3\n",
      "downloading file 5/6  004.mp3\n",
      "100% [............................................................................] 478208 / 478208\n",
      " https://s3-ap-southeast-1.amazonaws.com/text2speech-v4/hatieumai.0.ec696038627689a2d49b3af0e0d6d0d1.mp3\n",
      "downloading file 6/6  005.mp3\n",
      "100% [............................................................................] 209792 / 209792\n",
      "COMPLETE\n"
     ]
    }
   ],
   "source": [
    "from textwrap import wrap\n",
    "import time\n",
    "import wget\n",
    "file = open(\"input.txt\", \"r\", encoding=\"utf-8\") \n",
    "content = file.read()\n",
    "\n",
    "wraptexts = wrap(content, 480)\n",
    "\n",
    "for i in range(len(wraptexts)):\n",
    "    while True:\n",
    "        try:\n",
    "            text = wraptexts[i]\n",
    "            url = \"http://api.openfpt.vn/text2speech/v4?api_key={}&voice={}\".format(api_key, voice)\n",
    "            response = requests.post(url, data=text.encode('utf-8'), headers={'voice':voice})\n",
    "            response = response.json()\n",
    "            print('\\n', response['async'])\n",
    "            file = response['async']\n",
    "            print(\"downloading file {}/{} \".format(i+1, len(wraptexts)), \"{:03}.mp3\".format(i))\n",
    "        except :\n",
    "            time.sleep(1)\n",
    "            continue\n",
    "        break\n",
    "    while True:\n",
    "        try:\n",
    "            wget.download(file, \"{:03}.mp3\".format(i))\n",
    "        except :\n",
    "            time.sleep(1)\n",
    "            continue\n",
    "        break\n",
    "    \n",
    "print('\\nCOMPLETE')\n",
    "    "
   ]
  },
  {
   "cell_type": "code",
   "execution_count": 9,
   "metadata": {},
   "outputs": [],
   "source": [
    "#create list for merge\n",
    "import subprocess\n",
    "p = subprocess.Popen(['create_list.bat'])"
   ]
  },
  {
   "cell_type": "code",
   "execution_count": 10,
   "metadata": {},
   "outputs": [],
   "source": [
    "#merge file for create \n",
    "#output: full.mp3\n",
    "p = subprocess.Popen(['merge.bat'])"
   ]
  },
  {
   "cell_type": "markdown",
   "metadata": {},
   "source": [
    "#### DONE\n",
    "#### Check file full.mp3\n",
    "\n",
    "# Thanks u\n"
   ]
  },
  {
   "cell_type": "code",
   "execution_count": null,
   "metadata": {},
   "outputs": [],
   "source": []
  }
 ],
 "metadata": {
  "kernelspec": {
   "display_name": "Python 3",
   "language": "python",
   "name": "python3"
  },
  "language_info": {
   "codemirror_mode": {
    "name": "ipython",
    "version": 3
   },
   "file_extension": ".py",
   "mimetype": "text/x-python",
   "name": "python",
   "nbconvert_exporter": "python",
   "pygments_lexer": "ipython3",
   "version": "3.7.1"
  }
 },
 "nbformat": 4,
 "nbformat_minor": 2
}

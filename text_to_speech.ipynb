{
 "cells": [
  {
   "cell_type": "markdown",
   "metadata": {},
   "source": [
    "## Text to speech use FPT  API\n",
    "#### Step 1: create file input.txt\n",
    "#### Step 2: run all lines"
   ]
  },
  {
   "cell_type": "code",
   "execution_count": 1,
   "metadata": {},
   "outputs": [],
   "source": [
    "#Text to speech use fpt api\n",
    "import sys\n",
    "import requests\n",
    "#API Key của bạn\n",
    "#00:  \"7c1151e8d66146cc832ba10584a5333a\"\n",
    "#01:  \"952acd5968644894b16e8b51e89bc165\"\n",
    "#02: \"4957fc5ae67f476abdb44be1bf12c288\"\n",
    "#03: \"1f7e191fe53947f6b5556ebc923f5cf4\"\n",
    "#04: \"77c8f15ca85f4e558a00d61e0ce519b0\"\n",
    "#05: \"77bdc6ff6e3b4b82bb1c094c0f3cd5a0\"\n",
    "keys = [\n",
    "  '952acd5968644894b16e8b51e89bc165',\n",
    "      '4957fc5ae67f476abdb44be1bf12c288',\n",
    "  \t'1f7e191fe53947f6b5556ebc923f5cf4',\n",
    "\t'77c8f15ca85f4e558a00d61e0ce519b0',\n",
    "\t'77bdc6ff6e3b4b82bb1c094c0f3cd5a0',\n",
    "\t'c517594f3b43478cbea61054effbcb36',\n",
    "\t'975822c502c3463cbcd6ab0e586ee3d1',\n",
    "\t'978b8d3f52694dd1a0336ba488fa092c',\n",
    "\t'64ec9036808d4d67afcd2801f6cd0599',\n",
    "\t'8ef86b3b16ed4fed8289703212d7c5ce',\n",
    "\t'eb901e9263eb4439bc1dc40fc22d86dd',\n",
    "\t'c4b0c091d2714e8d9e8144e1b4b75f5a',\n",
    "\t'b79ef1fe5dde49f9a03bda519f90b2c0',\n",
    "\t'3acd44b1bff241278038a82d08ad0710',\n",
    "\t'401c07c328b842628c8fe36a4066c16b',\n",
    "\t'4fa987ea27fc4005a27fcf32fbfbde48',\n",
    "\t'8570122a71dc4eccad1208176efd4bda',\n",
    "\t'5677496690e04a83b7feb8fd11339c51',\n",
    "\t'3126715bcfb14a01aa2a85314af8d882',\n",
    "\t'88b80aacc15d49f7816554bee7a0bce4',\n",
    "\t'7507eb5c685547f3932296c993962663',\n",
    "\t'056604c10e1241f984c7ad7e81a9a33c',\n",
    "\t'ec454c24dab74c77a619adb7539b5923',\n",
    "\t'f8642ed3aa5e4ecd9f5e19377b3cb359',\n",
    "\t'1fc0a5e8e22b4b91bb62b88f442fa167',\n",
    "\t'5703ada87d0c4d159fc432e9b4645aea',\n",
    "\t'49543fd413cd40f09ee3dfc9f7e9fa81',\n",
    "\t'689c80f862584f00b9fb1e491598aab4',\n",
    "\t'3f9528b4733b42c6b3a605223b9f3d01',\n",
    "\t'693afc409d684c4e88793868d45761b3'\n",
    "]\n",
    "api_key =  \"7c1151e8d66146cc832ba10584a5333a\"\n",
    "\n",
    "#Xác định các giọng đọc, voice có các giá trị là leminh (giọng nam miền bắc), male (giọng nam miền bắc),\n",
    "#female (giọng nữ miền bắc), hatieumai (giọng nữ miền nam), ngoclam (giọng nữ Huế)\n",
    "voice = \"leminh\"\n",
    "# Xác định các giọng đọc, voice có các giá trị là:\n",
    "# leminh (giọng nam miền bắc nghe ấm ), \n",
    "# male (giọng nam miền bắc hơi già có tiếng thở),\n",
    "# female (giọng nữ miền bắc trẻ, giọng trong đọc hơi chậm so với các giọng khác), \n",
    "# hatieumai (giọng nữ miền nam nghe đk), \n",
    "# ngoclam (giọng nữ Huế  đọc hơi bị ngắt nên cho chậm lại)\n",
    "speed= \"0\"\n",
    "#ngữ điệu 1 on. 0 off\n",
    "prosody= \"0\"\n",
    "args = sys.argv\n",
    "if len(args) >= 1:\n",
    "    short_direct = args[1]\n",
    "    direc = '{}/'.format(args[1])\n",
    "else:\n",
    "    direc = ''\n",
    "if direc == '-f/':\n",
    "    direc = ''\n",
    "    \n",
    "# Thay ten file\n",
    "short_direct = 'starttq'\n",
    "direc = f'{short_direct}/'"
   ]
  },
  {
   "cell_type": "code",
   "execution_count": 2,
   "metadata": {},
   "outputs": [
    {
     "name": "stdout",
     "output_type": "stream",
     "text": [
      "backup file full mp3 to starttq/backup/2018-12-06_21_40_45.994499.mp3\n",
      "remove all file mp3\n"
     ]
    }
   ],
   "source": [
    "import os\n",
    "import datetime\n",
    "\n",
    "#backup file full.mp3\n",
    "if short_direct not in os.listdir():\n",
    "    os.mkdir(short_direct)\n",
    "if 'full.mp3' in os.listdir('{}'.format(direc)):\n",
    "    #create folder backup if not exists\n",
    "    if 'backup' not in os.listdir('{}'.format(direc)):\n",
    "        os.mkdir('{}backup'.format(direc))\n",
    "    \n",
    "    now = str(datetime.datetime.now()).replace(\" \", \"_\").replace(\":\", \"_\")\n",
    "    os.rename(\"{}full.mp3\".format(direc), \"{}backup/{}.mp3\".format(direc, now))\n",
    "    print('backup file full mp3 to {}backup/{}.mp3'.format(direc, now))\n",
    "\n",
    "# Remove all file mp3\n",
    "for item in os.listdir('{}'.format(direc)):\n",
    "    if item.endswith(\".mp3\"):\n",
    "        os.remove(os.path.join(direc, item))\n",
    "print('remove all file mp3')"
   ]
  },
  {
   "cell_type": "code",
   "execution_count": 3,
   "metadata": {
    "scrolled": false
   },
   "outputs": [
    {
     "name": "stdout",
     "output_type": "stream",
     "text": [
      "\n",
      " 64ec9036808d4d67afcd2801f6cd0599\n",
      "\n",
      " https://s3-ap-southeast-1.amazonaws.com/text2speech-v4/female.0.5d1f727570cf3d6a712f696e5857ccb0.mp3\n",
      "downloading file 1/2  starttq/000.mp3\n",
      "100% [............................................................................] 561536 / 561536hu laiCo loi. Thu laiCo loi. Thu laiCo loi. Thu lai\n",
      " 49543fd413cd40f09ee3dfc9f7e9fa81\n",
      "\n",
      " https://s3-ap-southeast-1.amazonaws.com/text2speech-v4/female.0.c03c5c2c4c0a92e83dda60eef378f9eb.mp3\n",
      "downloading file 2/2  starttq/001.mp3\n",
      "100% [............................................................................] 187904 / 187904\n",
      "COMPLETE\n"
     ]
    }
   ],
   "source": [
    "from textwrap import wrap\n",
    "import time\n",
    "import wget\n",
    "import random\n",
    "file = open(\"{}.txt\".format(short_direct), \"r\", encoding=\"utf-8\") \n",
    "content = file.read()\n",
    "\n",
    "wraptexts = wrap(content, 480)\n",
    "    \n",
    "\n",
    "for i in range(len(wraptexts)):\n",
    "    while True:\n",
    "        try:\n",
    "            text = wraptexts[i]\n",
    "            api_key = random.choice(keys)\n",
    "            print('\\n', api_key)\n",
    "            url = \"http://api.openfpt.vn/text2speech/v4?api_key={}&voice={}&speed={}&prosody={}\".format(api_key, voice, speed, prosody)\n",
    "            response = requests.post(url, data=text.encode('utf-8'), headers={'voice':voice, 'speed':speed, 'prosody':prosody})\n",
    "            response = response.json()\n",
    "            print('\\n', response['async'])\n",
    "            file = response['async']\n",
    "            print(\"downloading file {}/{} \".format(i+1, len(wraptexts)), \"{}{:03}.mp3\".format(direc, i))\n",
    "        except :\n",
    "            time.sleep(1)\n",
    "            continue\n",
    "        break\n",
    "    while True:\n",
    "        try:\n",
    "            wget.download(file, \"{}{:03}.mp3\".format(direc, i))\n",
    "        except :\n",
    "            time.sleep(0.1)\n",
    "            print('Co loi. Thu lai', end='')\n",
    "            continue\n",
    "        break\n",
    "    \n",
    "print('\\nCOMPLETE')\n",
    "    "
   ]
  },
  {
   "cell_type": "code",
   "execution_count": 4,
   "metadata": {},
   "outputs": [
    {
     "name": "stdout",
     "output_type": "stream",
     "text": [
      "['000.mp3', '001.mp3', 'backup', 'create_list.bat', 'create_list2.bat', 'list.txt']\n",
      "starttq/create_list.bat\n"
     ]
    }
   ],
   "source": [
    "#create list for merge\n",
    "import subprocess\n",
    "f = open(\"{}create_list.bat\".format(direc), \"w\")\n",
    "f.write(\"(for %%i in (*.mp3) do @echo file '%%i') > list.txt\")\n",
    "f.close()\n",
    "s = \"{}create_list.bat\".format(direc)\n",
    "os.chdir(short_direct)\n",
    "print(os.listdir())\n",
    "print(s)\n",
    "\n",
    "# os.system(\"create_list2.bat\".format(direc))\n",
    "subprocess.Popen(\"create_list.bat\")\n",
    "os.chdir('..')"
   ]
  },
  {
   "cell_type": "code",
   "execution_count": 5,
   "metadata": {},
   "outputs": [
    {
     "name": "stdout",
     "output_type": "stream",
     "text": [
      "['.git', '.ipynb_checkpoints', '000.mp3', '001.mp3', '002.mp3', '003.mp3', '004.mp3', '005.mp3', 'abc', 'backup', 'cd', 'create_list.bat', 'dir', 'ffmpeg.exe', 'ffplay.exe', 'ffprobe.exe', 'full.mp3', 'input', 'input.txt', 'jupyter', 'jupyter notebook', 'list.txt', 'merge.bat', 'New Text Document.txt', 'start.py', 'startta.cmd', 'starttq', 'starttq.txt', 'test_create.bat', 'test_merge.bat', 'text_to_speech.ipynb']\n"
     ]
    }
   ],
   "source": [
    "# os.chdir('TextToSpeech 00')\n",
    "print(os.listdir())\n",
    "# os.chdir('..')"
   ]
  },
  {
   "cell_type": "code",
   "execution_count": 6,
   "metadata": {},
   "outputs": [],
   "source": [
    "#merge file for create \n",
    "#output: full.mp3\n",
    "p = subprocess.run('ffmpeg -f concat -safe 0 -i {}list.txt -c copy {}full.mp3'.format(direc, direc))"
   ]
  },
  {
   "cell_type": "markdown",
   "metadata": {},
   "source": [
    "#### DONE\n",
    "#### Check file full.mp3\n",
    "\n",
    "# Thanks u\n"
   ]
  },
  {
   "cell_type": "code",
   "execution_count": null,
   "metadata": {},
   "outputs": [],
   "source": []
  }
 ],
 "metadata": {
  "kernelspec": {
   "display_name": "Python 3",
   "language": "python",
   "name": "python3"
  },
  "language_info": {
   "codemirror_mode": {
    "name": "ipython",
    "version": 3
   },
   "file_extension": ".py",
   "mimetype": "text/x-python",
   "name": "python",
   "nbconvert_exporter": "python",
   "pygments_lexer": "ipython3",
   "version": "3.6.4"
  }
 },
 "nbformat": 4,
 "nbformat_minor": 2
}
